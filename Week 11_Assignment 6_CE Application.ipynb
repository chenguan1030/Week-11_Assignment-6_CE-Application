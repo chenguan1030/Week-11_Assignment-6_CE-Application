{
 "cells": [
  {
   "cell_type": "code",
   "execution_count": 9,
   "id": "cafdb284",
   "metadata": {},
   "outputs": [
    {
     "data": {
      "text/plain": [
       "PR(Tc=507.6, Pc=3025000.0, omega=0.2975, T=400.0, P=1000000.0)"
      ]
     },
     "execution_count": 9,
     "metadata": {},
     "output_type": "execute_result"
    }
   ],
   "source": [
    "#We can use the GCEOS (short for “General Cubic Equation Of State”) interface with any component or implemented equation of state, but for simplicity n-hexane is used with the Peng-Robinson EOS. Its critical temperature is 507.6 K, critical pressure 3.025 MPa, and acentric factor is 0.2975. \n",
    "#The state must be specified along with the critical constants when initializing a GCEOS object; we use 400 K and 1e6 Pa here:\n",
    "\n",
    "from thermo import *\n",
    "eos = PR(Tc=507.6, Pc=3025000.0, omega=0.2975, T=400., P=1E6)\n",
    "print(eos)"
   ]
  },
  {
   "cell_type": "code",
   "execution_count": 13,
   "id": "10d7c4b0",
   "metadata": {},
   "outputs": [
    {
     "data": {
      "text/plain": [
       "(0.00015607318478566296, 0.002141876816741797, 0.0009192954749822109)"
      ]
     },
     "execution_count": 13,
     "metadata": {},
     "output_type": "execute_result"
    }
   ],
   "source": [
    "#The __repr__ string is designed to show all the inputs to the object.\n",
    "\n",
    "#We can check the volume solutions with the raw_volumes attribute:\n",
    "\n",
    "eos.raw_volumes"
   ]
  },
  {
   "cell_type": "code",
   "execution_count": 12,
   "id": "706e4da2",
   "metadata": {},
   "outputs": [
    {
     "data": {
      "text/plain": [
       "'l/g'"
      ]
     },
     "execution_count": 12,
     "metadata": {},
     "output_type": "execute_result"
    }
   ],
   "source": [
    "#At this point there are three real volume, so there is a liquid-like and a vapor-like solution available.\n",
    "#The phase attribute will have the value of ‘l/g’ in this state; otherwise it will be ‘l’ or ‘g’.\n",
    "\n",
    "eos.phase"
   ]
  },
  {
   "cell_type": "code",
   "execution_count": 15,
   "id": "e1bcb9c5",
   "metadata": {},
   "outputs": [
    {
     "data": {
      "text/plain": [
       "-26111.87757167542"
      ]
     },
     "execution_count": 15,
     "metadata": {},
     "output_type": "execute_result"
    }
   ],
   "source": [
    "#The basic properties calculated at initialization are directly attributes, and can be accessed as such. \n",
    "#Liquid-like properties have “_l” at the end of their name, and “_g” is at the end of gas-like properties.\n",
    "\n",
    "eos.H_dep_l"
   ]
  },
  {
   "cell_type": "code",
   "execution_count": 16,
   "id": "c5ff7d9e",
   "metadata": {},
   "outputs": [
    {
     "data": {
      "text/plain": [
       "-3549.300577958365"
      ]
     },
     "execution_count": 16,
     "metadata": {},
     "output_type": "execute_result"
    }
   ],
   "source": [
    "eos.H_dep_g"
   ]
  },
  {
   "cell_type": "code",
   "execution_count": 17,
   "id": "5b35c77d",
   "metadata": {},
   "outputs": [
    {
     "data": {
      "text/plain": [
       "-58.09844784329326"
      ]
     },
     "execution_count": 17,
     "metadata": {},
     "output_type": "execute_result"
    }
   ],
   "source": [
    "eos.S_dep_l"
   ]
  },
  {
   "cell_type": "code",
   "execution_count": 18,
   "id": "72d12b14",
   "metadata": {},
   "outputs": [
    {
     "data": {
      "text/plain": [
       "-6.4394518931042874"
      ]
     },
     "execution_count": 18,
     "metadata": {},
     "output_type": "execute_result"
    }
   ],
   "source": [
    "eos.S_dep_g"
   ]
  },
  {
   "cell_type": "code",
   "execution_count": 19,
   "id": "e0b09c67",
   "metadata": {},
   "outputs": [
    {
     "data": {
      "text/plain": [
       "288501.6337664864"
      ]
     },
     "execution_count": 19,
     "metadata": {},
     "output_type": "execute_result"
    }
   ],
   "source": [
    "eos.dP_dT_l"
   ]
  },
  {
   "cell_type": "code",
   "execution_count": 20,
   "id": "f5a6db64",
   "metadata": {},
   "outputs": [
    {
     "data": {
      "text/plain": [
       "5135.910655935805"
      ]
     },
     "execution_count": 20,
     "metadata": {},
     "output_type": "execute_result"
    }
   ],
   "source": [
    "eos.dP_dT_g"
   ]
  },
  {
   "cell_type": "code",
   "execution_count": 21,
   "id": "9c3bf83c",
   "metadata": {},
   "outputs": [
    {
     "data": {
      "text/plain": [
       "421597.0078576584"
      ]
     },
     "execution_count": 21,
     "metadata": {},
     "output_type": "execute_result"
    }
   ],
   "source": [
    "#All calculations in thermo.eos and thermo.eos_mix are on a molar basis; molecular weight is never provided or needed. All outputs are in base SI units (K, Pa, m^3, mole, etc). \n",
    "#This simplified development substantially. \n",
    "#For working with mass-based units, use the Phase interface.\n",
    "#The thermo.eos and thermo.eos_mix interfaces were developed prior to the Phase interface and does have some features not exposed in the Phase interface however.\n",
    "#Other properties are either implemented as methods that require arguments, or Python properties which act just like attributes but calculate the results on the fly. \n",
    "#For example, the liquid-phase fugacity fugacity_l or the gas isobaric (constant-pressure) expansion coefficient are properties.\n",
    "\n",
    "eos.fugacity_l"
   ]
  },
  {
   "cell_type": "code",
   "execution_count": 22,
   "id": "aa3bac7f",
   "metadata": {},
   "outputs": [
    {
     "data": {
      "text/plain": [
       "746231.9487885897"
      ]
     },
     "execution_count": 22,
     "metadata": {},
     "output_type": "execute_result"
    }
   ],
   "source": [
    "eos.fugacity_g"
   ]
  },
  {
   "cell_type": "code",
   "execution_count": 23,
   "id": "8cda0932",
   "metadata": {},
   "outputs": [
    {
     "data": {
      "text/plain": [
       "0.002693370917783751"
      ]
     },
     "execution_count": 23,
     "metadata": {},
     "output_type": "execute_result"
    }
   ],
   "source": [
    "eos.beta_"
   ]
  },
  {
   "cell_type": "code",
   "execution_count": 24,
   "id": "6dfd426c",
   "metadata": {},
   "outputs": [
    {
     "data": {
      "text/plain": [
       "0.010123223911174938"
      ]
     },
     "execution_count": 24,
     "metadata": {},
     "output_type": "execute_result"
    }
   ],
   "source": [
    "eos.beta_g"
   ]
  },
  {
   "cell_type": "code",
   "execution_count": 25,
   "id": "0c82986b",
   "metadata": {},
   "outputs": [
    {
     "data": {
      "text/plain": [
       "31086.219936357076"
      ]
     },
     "execution_count": 25,
     "metadata": {},
     "output_type": "execute_result"
    }
   ],
   "source": [
    "#There are an awful lot of these properties, because many of them are derivatives subject to similar conditions. A full list is in the documentation for GCEOS. There are fewer calls that take temperature, such as Hvap which calculates the heat of vaporization of the object at a specified temperature:\n",
    "\n",
    "eos.Hvap(300)"
   ]
  },
  {
   "cell_type": "code",
   "execution_count": 28,
   "id": "5fab01a7",
   "metadata": {},
   "outputs": [
    {
     "data": {
      "text/plain": [
       "PR(Tc=507.6, Pc=3025000.0, omega=0.2975, T=300.0, P=100000.0)"
      ]
     },
     "execution_count": 28,
     "metadata": {},
     "output_type": "execute_result"
    }
   ],
   "source": [
    "#Once an object has been created, it can be used to instantiate new GCEOS objects at different conditions, without re-specifying the critical constants and other parameters that may be needed.\n",
    "\n",
    "eos.to(T=300.0, P=1e5)"
   ]
  },
  {
   "cell_type": "code",
   "execution_count": 29,
   "id": "e3c4a78f",
   "metadata": {},
   "outputs": [
    {
     "data": {
      "text/plain": [
       "PR(Tc=507.6, Pc=3025000.0, omega=0.2975, P=100000.0, V=100.0)"
      ]
     },
     "execution_count": 29,
     "metadata": {},
     "output_type": "execute_result"
    }
   ],
   "source": [
    "eos.to(V=1e2, P=1e5)"
   ]
  },
  {
   "cell_type": "code",
   "execution_count": 36,
   "id": "7ca36f4c",
   "metadata": {},
   "outputs": [
    {
     "data": {
      "text/plain": [
       "PR(Tc=507.6, Pc=3025000.0, omega=0.2975, T=300, V=100.0)"
      ]
     },
     "execution_count": 36,
     "metadata": {},
     "output_type": "execute_result"
    }
   ],
   "source": [
    "eos.to(V=1e2, T=300)"
   ]
  },
  {
   "cell_type": "code",
   "execution_count": 31,
   "id": "f6e6aa18",
   "metadata": {},
   "outputs": [
    {
     "data": {
      "text/plain": [
       "{'T': 400.0, 'P': 1000000.0}"
      ]
     },
     "execution_count": 31,
     "metadata": {},
     "output_type": "execute_result"
    }
   ],
   "source": [
    "#As was seen in the examples above, any two of T, P, V can be used to specify the state of the object. \n",
    "#input variables of the object are stored and can be checked with state_specs :\n",
    "\n",
    "eos.state_specs"
   ]
  },
  {
   "cell_type": "code",
   "execution_count": 37,
   "id": "8b92d8a4",
   "metadata": {},
   "outputs": [
    {
     "data": {
      "text/plain": [
       "999999.9999999702"
      ]
     },
     "execution_count": 37,
     "metadata": {},
     "output_type": "execute_result"
    }
   ],
   "source": [
    "#The individual parts of the generic cubic equation are stored as well. \n",
    "#We can use them to check that the pressure equation is satisfied:\n",
    "\n",
    "from thermo.eos import R\n",
    "R*eos.T/(eos.V_l-eos.b) - eos.a_alpha/(eos.V_l**2 + eos.V_l*eos.delta + eos.epsilon)"
   ]
  },
  {
   "cell_type": "code",
   "execution_count": null,
   "id": "d2b3e4e4",
   "metadata": {},
   "outputs": [],
   "source": [
    "#Note that as floating points are not perfectly precise, some small error may be shown but great care has been taken to minimize this.\n",
    "#The value of the gas constant used is 8.31446261815324 J/(mol*K). \n",
    "#This is near the full precision of floating point numbers, but not quite. \n",
    "#It is now an exact value used as a “definition” in the SI system. \n",
    "#Note that other implementations of equations of state may not use the full value of the gas constant, but the author strongly recommends anyone considering writing their own EOS implementation use the full gas constant. \n",
    "#This will allow more interchangeable results."
   ]
  }
 ],
 "metadata": {
  "kernelspec": {
   "display_name": "Python 3 (ipykernel)",
   "language": "python",
   "name": "python3"
  },
  "language_info": {
   "codemirror_mode": {
    "name": "ipython",
    "version": 3
   },
   "file_extension": ".py",
   "mimetype": "text/x-python",
   "name": "python",
   "nbconvert_exporter": "python",
   "pygments_lexer": "ipython3",
   "version": "3.11.5"
  }
 },
 "nbformat": 4,
 "nbformat_minor": 5
}
